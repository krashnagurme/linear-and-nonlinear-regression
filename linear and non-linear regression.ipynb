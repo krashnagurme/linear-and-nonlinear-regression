{
 "cells": [
  {
   "cell_type": "markdown",
   "metadata": {},
   "source": [
    "# Linear and non-linear regression\n",
    ">> AUTHOR : Krashna Gurme"
   ]
  },
  {
   "cell_type": "markdown",
   "metadata": {},
   "source": [
    "## Use Case\n",
    "    1. Perform an exploratory data analysis to identify the variables that could be used for predicting \"Total Profit\" per quarter.\n",
    "    2. Identify the **optimal** linear regression model for predicting the \"Total Profit\" per quarter. Justify your approach\n",
    "    3. Build a non-linear model for predicting the \"Total Profit\" per year. Justify your choice of the non-linear model\n",
    "    4. Develop an anomalies detection model for predicting anomalies in \"Unit Price\". For this model, unit price data should be treated as a time series data with the series order being identified using the variable \"Ship Date\"\n"
   ]
  },
  {
   "cell_type": "code",
   "execution_count": 1,
   "metadata": {},
   "outputs": [
    {
     "name": "stderr",
     "output_type": "stream",
     "text": [
      "C:\\Users\\lenovo\\Anaconda3\\lib\\site-packages\\statsmodels\\tools\\_testing.py:19: FutureWarning: pandas.util.testing is deprecated. Use the functions in the public API at pandas.testing instead.\n",
      "  import pandas.util.testing as tm\n"
     ]
    }
   ],
   "source": [
    "# Importing necessary packages\n",
    "import pandas as pd \n",
    "import numpy as np\n",
    "import seaborn as sns\n",
    "import matplotlib.pyplot as plt\n",
    "%matplotlib inline\n",
    "from sklearn.metrics import mean_squared_error\n",
    "from math import sqrt\n",
    "import stat\n",
    "sns.set(style=\"white\")"
   ]
  },
  {
   "cell_type": "code",
   "execution_count": 2,
   "metadata": {},
   "outputs": [
    {
     "data": {
      "text/html": [
       "<div>\n",
       "<style scoped>\n",
       "    .dataframe tbody tr th:only-of-type {\n",
       "        vertical-align: middle;\n",
       "    }\n",
       "\n",
       "    .dataframe tbody tr th {\n",
       "        vertical-align: top;\n",
       "    }\n",
       "\n",
       "    .dataframe thead th {\n",
       "        text-align: right;\n",
       "    }\n",
       "</style>\n",
       "<table border=\"1\" class=\"dataframe\">\n",
       "  <thead>\n",
       "    <tr style=\"text-align: right;\">\n",
       "      <th></th>\n",
       "      <th>Region</th>\n",
       "      <th>Country</th>\n",
       "      <th>Item Type</th>\n",
       "      <th>Sales Channel</th>\n",
       "      <th>Order Priority</th>\n",
       "      <th>Order Date</th>\n",
       "      <th>Order ID</th>\n",
       "      <th>Ship Date</th>\n",
       "      <th>Units Sold</th>\n",
       "      <th>Unit Price</th>\n",
       "      <th>Unit Cost</th>\n",
       "      <th>Total Revenue</th>\n",
       "      <th>Total Cost</th>\n",
       "      <th>Total Profit</th>\n",
       "    </tr>\n",
       "  </thead>\n",
       "  <tbody>\n",
       "    <tr>\n",
       "      <th>0</th>\n",
       "      <td>Sub-Saharan Africa</td>\n",
       "      <td>Chad</td>\n",
       "      <td>Office Supplies</td>\n",
       "      <td>Online</td>\n",
       "      <td>L</td>\n",
       "      <td>1/27/2011</td>\n",
       "      <td>292494523</td>\n",
       "      <td>2/12/2011</td>\n",
       "      <td>4484</td>\n",
       "      <td>651.21</td>\n",
       "      <td>524.96</td>\n",
       "      <td>2920025.64</td>\n",
       "      <td>2353920.64</td>\n",
       "      <td>566105.00</td>\n",
       "    </tr>\n",
       "    <tr>\n",
       "      <th>1</th>\n",
       "      <td>Europe</td>\n",
       "      <td>Latvia</td>\n",
       "      <td>Beverages</td>\n",
       "      <td>Online</td>\n",
       "      <td>C</td>\n",
       "      <td>12/28/2015</td>\n",
       "      <td>361825549</td>\n",
       "      <td>1/23/2016</td>\n",
       "      <td>1075</td>\n",
       "      <td>47.45</td>\n",
       "      <td>31.79</td>\n",
       "      <td>51008.75</td>\n",
       "      <td>34174.25</td>\n",
       "      <td>16834.50</td>\n",
       "    </tr>\n",
       "    <tr>\n",
       "      <th>2</th>\n",
       "      <td>Middle East and North Africa</td>\n",
       "      <td>Pakistan</td>\n",
       "      <td>Vegetables</td>\n",
       "      <td>Offline</td>\n",
       "      <td>C</td>\n",
       "      <td>1/13/2011</td>\n",
       "      <td>141515767</td>\n",
       "      <td>2/1/2011</td>\n",
       "      <td>6515</td>\n",
       "      <td>154.06</td>\n",
       "      <td>90.93</td>\n",
       "      <td>1003700.90</td>\n",
       "      <td>592408.95</td>\n",
       "      <td>411291.95</td>\n",
       "    </tr>\n",
       "    <tr>\n",
       "      <th>3</th>\n",
       "      <td>Sub-Saharan Africa</td>\n",
       "      <td>Democratic Republic of the Congo</td>\n",
       "      <td>Household</td>\n",
       "      <td>Online</td>\n",
       "      <td>C</td>\n",
       "      <td>9/11/2012</td>\n",
       "      <td>500364005</td>\n",
       "      <td>10/6/2012</td>\n",
       "      <td>7683</td>\n",
       "      <td>668.27</td>\n",
       "      <td>502.54</td>\n",
       "      <td>5134318.41</td>\n",
       "      <td>3861014.82</td>\n",
       "      <td>1273303.59</td>\n",
       "    </tr>\n",
       "    <tr>\n",
       "      <th>4</th>\n",
       "      <td>Europe</td>\n",
       "      <td>Czech Republic</td>\n",
       "      <td>Beverages</td>\n",
       "      <td>Online</td>\n",
       "      <td>C</td>\n",
       "      <td>10/27/2015</td>\n",
       "      <td>127481591</td>\n",
       "      <td>12/5/2015</td>\n",
       "      <td>3491</td>\n",
       "      <td>47.45</td>\n",
       "      <td>31.79</td>\n",
       "      <td>165647.95</td>\n",
       "      <td>110978.89</td>\n",
       "      <td>54669.06</td>\n",
       "    </tr>\n",
       "  </tbody>\n",
       "</table>\n",
       "</div>"
      ],
      "text/plain": [
       "                         Region                           Country  \\\n",
       "0            Sub-Saharan Africa                              Chad   \n",
       "1                        Europe                            Latvia   \n",
       "2  Middle East and North Africa                          Pakistan   \n",
       "3            Sub-Saharan Africa  Democratic Republic of the Congo   \n",
       "4                        Europe                    Czech Republic   \n",
       "\n",
       "         Item Type Sales Channel Order Priority  Order Date   Order ID  \\\n",
       "0  Office Supplies        Online              L   1/27/2011  292494523   \n",
       "1        Beverages        Online              C  12/28/2015  361825549   \n",
       "2       Vegetables       Offline              C   1/13/2011  141515767   \n",
       "3        Household        Online              C   9/11/2012  500364005   \n",
       "4        Beverages        Online              C  10/27/2015  127481591   \n",
       "\n",
       "   Ship Date  Units Sold  Unit Price  Unit Cost  Total Revenue  Total Cost  \\\n",
       "0  2/12/2011        4484      651.21     524.96     2920025.64  2353920.64   \n",
       "1  1/23/2016        1075       47.45      31.79       51008.75    34174.25   \n",
       "2   2/1/2011        6515      154.06      90.93     1003700.90   592408.95   \n",
       "3  10/6/2012        7683      668.27     502.54     5134318.41  3861014.82   \n",
       "4  12/5/2015        3491       47.45      31.79      165647.95   110978.89   \n",
       "\n",
       "   Total Profit  \n",
       "0     566105.00  \n",
       "1      16834.50  \n",
       "2     411291.95  \n",
       "3    1273303.59  \n",
       "4      54669.06  "
      ]
     },
     "execution_count": 2,
     "metadata": {},
     "output_type": "execute_result"
    }
   ],
   "source": [
    "# reading csv into dataframe\n",
    "df = pd.read_csv('Data.csv')\n",
    "df_new = df\n",
    "df.head()"
   ]
  },
  {
   "cell_type": "code",
   "execution_count": 3,
   "metadata": {},
   "outputs": [
    {
     "name": "stdout",
     "output_type": "stream",
     "text": [
      "\n",
      " Description            Order ID    Units Sold    Unit Price     Unit Cost  Total Revenue  \\\n",
      "count  1.000000e+04  10000.000000  10000.000000  10000.000000   1.000000e+04   \n",
      "mean   5.498719e+08   5002.855900    268.143139    188.806639   1.333355e+06   \n",
      "std    2.607835e+08   2873.246454    217.944092    176.445907   1.465026e+06   \n",
      "min    1.000892e+08      2.000000      9.330000      6.920000   1.679400e+02   \n",
      "25%    3.218067e+08   2530.750000    109.280000     56.670000   2.885511e+05   \n",
      "50%    5.485663e+08   4962.000000    205.700000    117.110000   8.000512e+05   \n",
      "75%    7.759981e+08   7472.000000    437.200000    364.690000   1.819143e+06   \n",
      "max    9.999342e+08  10000.000000    668.270000    524.960000   6.680027e+06   \n",
      "\n",
      "         Total Cost  Total Profit  \n",
      "count  1.000000e+04  1.000000e+04  \n",
      "mean   9.382658e+05  3.950893e+05  \n",
      "std    1.145914e+06  3.775550e+05  \n",
      "min    1.245600e+02  4.338000e+01  \n",
      "25%    1.647855e+05  9.832914e+04  \n",
      "50%    4.816058e+05  2.890990e+05  \n",
      "75%    1.183822e+06  5.664227e+05  \n",
      "max    5.241726e+06  1.738178e+06  \n"
     ]
    }
   ],
   "source": [
    "print(\"\\n Description\",df.describe())"
   ]
  },
  {
   "cell_type": "code",
   "execution_count": 4,
   "metadata": {},
   "outputs": [
    {
     "name": "stdout",
     "output_type": "stream",
     "text": [
      "<class 'pandas.core.frame.DataFrame'>\n",
      "RangeIndex: 10000 entries, 0 to 9999\n",
      "Data columns (total 14 columns):\n",
      " #   Column          Non-Null Count  Dtype  \n",
      "---  ------          --------------  -----  \n",
      " 0   Region          10000 non-null  object \n",
      " 1   Country         10000 non-null  object \n",
      " 2   Item Type       10000 non-null  object \n",
      " 3   Sales Channel   10000 non-null  object \n",
      " 4   Order Priority  10000 non-null  object \n",
      " 5   Order Date      10000 non-null  object \n",
      " 6   Order ID        10000 non-null  int64  \n",
      " 7   Ship Date       10000 non-null  object \n",
      " 8   Units Sold      10000 non-null  int64  \n",
      " 9   Unit Price      10000 non-null  float64\n",
      " 10  Unit Cost       10000 non-null  float64\n",
      " 11  Total Revenue   10000 non-null  float64\n",
      " 12  Total Cost      10000 non-null  float64\n",
      " 13  Total Profit    10000 non-null  float64\n",
      "dtypes: float64(5), int64(2), object(7)\n",
      "memory usage: 1.1+ MB\n",
      "Information: None\n"
     ]
    }
   ],
   "source": [
    "print(\"Information:\", df.info())"
   ]
  },
  {
   "cell_type": "markdown",
   "metadata": {},
   "source": [
    "# 1. Handling Missing Values"
   ]
  },
  {
   "cell_type": "code",
   "execution_count": 5,
   "metadata": {},
   "outputs": [
    {
     "data": {
      "text/plain": [
       "Region            0\n",
       "Country           0\n",
       "Item Type         0\n",
       "Sales Channel     0\n",
       "Order Priority    0\n",
       "Order Date        0\n",
       "Order ID          0\n",
       "Ship Date         0\n",
       "Units Sold        0\n",
       "Unit Price        0\n",
       "Unit Cost         0\n",
       "Total Revenue     0\n",
       "Total Cost        0\n",
       "Total Profit      0\n",
       "dtype: int64"
      ]
     },
     "execution_count": 5,
     "metadata": {},
     "output_type": "execute_result"
    }
   ],
   "source": [
    "# Check for missing values in any column\n",
    "df.isnull().sum()"
   ]
  },
  {
   "cell_type": "markdown",
   "metadata": {},
   "source": [
    "# 2. Handling Duplicate records"
   ]
  },
  {
   "cell_type": "code",
   "execution_count": 6,
   "metadata": {},
   "outputs": [
    {
     "name": "stdout",
     "output_type": "stream",
     "text": [
      "0\n"
     ]
    },
    {
     "data": {
      "text/html": [
       "<div>\n",
       "<style scoped>\n",
       "    .dataframe tbody tr th:only-of-type {\n",
       "        vertical-align: middle;\n",
       "    }\n",
       "\n",
       "    .dataframe tbody tr th {\n",
       "        vertical-align: top;\n",
       "    }\n",
       "\n",
       "    .dataframe thead th {\n",
       "        text-align: right;\n",
       "    }\n",
       "</style>\n",
       "<table border=\"1\" class=\"dataframe\">\n",
       "  <thead>\n",
       "    <tr style=\"text-align: right;\">\n",
       "      <th></th>\n",
       "      <th>Region</th>\n",
       "      <th>Country</th>\n",
       "      <th>Item Type</th>\n",
       "      <th>Sales Channel</th>\n",
       "      <th>Order Priority</th>\n",
       "      <th>Order Date</th>\n",
       "      <th>Order ID</th>\n",
       "      <th>Ship Date</th>\n",
       "      <th>Units Sold</th>\n",
       "      <th>Unit Price</th>\n",
       "      <th>Unit Cost</th>\n",
       "      <th>Total Revenue</th>\n",
       "      <th>Total Cost</th>\n",
       "      <th>Total Profit</th>\n",
       "    </tr>\n",
       "  </thead>\n",
       "  <tbody>\n",
       "  </tbody>\n",
       "</table>\n",
       "</div>"
      ],
      "text/plain": [
       "Empty DataFrame\n",
       "Columns: [Region, Country, Item Type, Sales Channel, Order Priority, Order Date, Order ID, Ship Date, Units Sold, Unit Price, Unit Cost, Total Revenue, Total Cost, Total Profit]\n",
       "Index: []"
      ]
     },
     "execution_count": 6,
     "metadata": {},
     "output_type": "execute_result"
    }
   ],
   "source": [
    "duplicate = df.duplicated()\n",
    "print(duplicate.sum())\n",
    "df[duplicate]"
   ]
  },
  {
   "cell_type": "markdown",
   "metadata": {},
   "source": [
    "* There are no duplicate records in the data. great! "
   ]
  },
  {
   "cell_type": "markdown",
   "metadata": {},
   "source": [
    "# 3. Handling Outliers\n",
    ">> Outliers, being the most extreme observations, may include the sample maximum or sample minimum, or both, depending on whether they are extremely high or low. However, the sample maximum and minimum are not always outliers because they may not be unusually far from other observations."
   ]
  },
  {
   "cell_type": "code",
   "execution_count": 7,
   "metadata": {},
   "outputs": [
    {
     "data": {
      "image/png": "[encoded data removed]",
      "text/plain": [
       "<Figure size 432x288 with 1 Axes>"
      ]
     },
     "metadata": {
      "needs_background": "light"
     },
     "output_type": "display_data"
    },
    {
     "data": {
      "image/png": "[encoded data removed]",
      "text/plain": [
       "<Figure size 432x288 with 1 Axes>"
      ]
     },
     "metadata": {
      "needs_background": "light"
     },
     "output_type": "display_data"
    },
    {
     "data": {
      "image/png": "[encoded data removed]",
      "text/plain": [
       "<Figure size 432x288 with 1 Axes>"
      ]
     },
     "metadata": {
      "needs_background": "light"
     },
     "output_type": "display_data"
    }
   ],
   "source": [
    "df.boxplot(column=[\"Total Revenue\"])\n",
    "plt.show()\n",
    "df.boxplot(column=[\"Total Cost\"])\n",
    "plt.show()\n",
    "df.boxplot(column=[\"Total Profit\"])\n",
    "plt.show()"
   ]
  },
  {
   "cell_type": "markdown",
   "metadata": {},
   "source": [
    "* Looking at the box plot, it seems that the variables Total, Revenue, TOtal Cost and Total Profit, have outliers present inside them. These outliers value needs to be teated and we can treat them with different ways such as following :\n",
    "\n",
    "    1. Drop the outlier value\n",
    "    2. Replace the outlier value using the IQR"
   ]
  },
  {
   "cell_type": "code",
   "execution_count": 8,
   "metadata": {},
   "outputs": [],
   "source": [
    "# Creating a function to check the outlier and remove them \n",
    "\n",
    "def remove_outlier(variable):\n",
    "    sorted(variable)\n",
    "    Q1, Q3 = variable.quantile([0.25, 0.75])\n",
    "    IQR = Q3-Q1\n",
    "    lowerValue = Q1-(1.5*IQR)\n",
    "    higherValue = Q3+(1.5*IQR)\n",
    "    return lowerValue, higherValue\n",
    "\n",
    "lowRevenue, highRevenue = remove_outlier(df['Total Revenue'])\n",
    "df['Total Revenue'] = np.where(df['Total Revenue'] > highRevenue, highRevenue, df['Total Revenue'])\n",
    "df['Total Revenue'] = np.where(df['Total Revenue'] < lowRevenue, lowRevenue, df['Total Revenue'])\n",
    "\n",
    "lowCost, highCost = remove_outlier(df['Total Cost'])\n",
    "df['Total Cost'] = np.where(df['Total Cost'] > highCost, highCost, df['Total Cost'])\n",
    "df['Total Cost'] = np.where(df['Total Cost'] < lowCost, lowCost, df['Total Cost'])\n",
    "\n",
    "lowProfit, highProfit = remove_outlier(df['Total Profit'])\n",
    "df['Total Profit'] = np.where(df['Total Profit'] > highProfit, highProfit, df['Total Profit'])\n",
    "df['Total Profit'] = np.where(df['Total Profit'] < lowProfit, lowProfit, df['Total Profit'])\n"
   ]
  },
  {
   "cell_type": "markdown",
   "metadata": {},
   "source": [
    "# Boxplots post removing outlier"
   ]
  },
  {
   "cell_type": "code",
   "execution_count": 9,
   "metadata": {},
   "outputs": [
    {
     "data": {
      "image/png": "[encoded data removed]",
      "text/plain": [
       "<Figure size 432x288 with 1 Axes>"
      ]
     },
     "metadata": {
      "needs_background": "light"
     },
     "output_type": "display_data"
    },
    {
     "data": {
      "image/png": "[encoded data removed]",
      "text/plain": [
       "<Figure size 432x288 with 1 Axes>"
      ]
     },
     "metadata": {
      "needs_background": "light"
     },
     "output_type": "display_data"
    },
    {
     "data": {
      "image/png": "[encoded data removed]",
      "text/plain": [
       "<Figure size 432x288 with 1 Axes>"
      ]
     },
     "metadata": {
      "needs_background": "light"
     },
     "output_type": "display_data"
    }
   ],
   "source": [
    "df.boxplot(column=[\"Total Revenue\"])\n",
    "plt.show()\n",
    "df.boxplot(column=[\"Total Cost\"])\n",
    "plt.show()\n",
    "df.boxplot(column=[\"Total Profit\"])\n",
    "plt.show()"
   ]
  },
  {
   "cell_type": "markdown",
   "metadata": {},
   "source": [
    "# 4. Variable Analysis"
   ]
  },
  {
   "cell_type": "code",
   "execution_count": 10,
   "metadata": {},
   "outputs": [
    {
     "data": {
      "text/html": [
       "<div>\n",
       "<style scoped>\n",
       "    .dataframe tbody tr th:only-of-type {\n",
       "        vertical-align: middle;\n",
       "    }\n",
       "\n",
       "    .dataframe tbody tr th {\n",
       "        vertical-align: top;\n",
       "    }\n",
       "\n",
       "    .dataframe thead th {\n",
       "        text-align: right;\n",
       "    }\n",
       "</style>\n",
       "<table border=\"1\" class=\"dataframe\">\n",
       "  <thead>\n",
       "    <tr style=\"text-align: right;\">\n",
       "      <th></th>\n",
       "      <th>Order ID</th>\n",
       "      <th>Units Sold</th>\n",
       "      <th>Unit Price</th>\n",
       "      <th>Unit Cost</th>\n",
       "      <th>Total Revenue</th>\n",
       "      <th>Total Cost</th>\n",
       "      <th>Total Profit</th>\n",
       "    </tr>\n",
       "  </thead>\n",
       "  <tbody>\n",
       "    <tr>\n",
       "      <th>Order ID</th>\n",
       "      <td>1.000000</td>\n",
       "      <td>-0.019732</td>\n",
       "      <td>0.012175</td>\n",
       "      <td>0.010449</td>\n",
       "      <td>-0.006921</td>\n",
       "      <td>-0.007360</td>\n",
       "      <td>-0.005367</td>\n",
       "    </tr>\n",
       "    <tr>\n",
       "      <th>Units Sold</th>\n",
       "      <td>-0.019732</td>\n",
       "      <td>1.000000</td>\n",
       "      <td>-0.012978</td>\n",
       "      <td>-0.012441</td>\n",
       "      <td>0.524582</td>\n",
       "      <td>0.465002</td>\n",
       "      <td>0.603328</td>\n",
       "    </tr>\n",
       "    <tr>\n",
       "      <th>Unit Price</th>\n",
       "      <td>0.012175</td>\n",
       "      <td>-0.012978</td>\n",
       "      <td>1.000000</td>\n",
       "      <td>0.986324</td>\n",
       "      <td>0.743716</td>\n",
       "      <td>0.775779</td>\n",
       "      <td>0.580710</td>\n",
       "    </tr>\n",
       "    <tr>\n",
       "      <th>Unit Cost</th>\n",
       "      <td>0.010449</td>\n",
       "      <td>-0.012441</td>\n",
       "      <td>0.986324</td>\n",
       "      <td>1.000000</td>\n",
       "      <td>0.729976</td>\n",
       "      <td>0.781030</td>\n",
       "      <td>0.510704</td>\n",
       "    </tr>\n",
       "    <tr>\n",
       "      <th>Total Revenue</th>\n",
       "      <td>-0.006921</td>\n",
       "      <td>0.524582</td>\n",
       "      <td>0.743716</td>\n",
       "      <td>0.729976</td>\n",
       "      <td>1.000000</td>\n",
       "      <td>0.985395</td>\n",
       "      <td>0.888720</td>\n",
       "    </tr>\n",
       "    <tr>\n",
       "      <th>Total Cost</th>\n",
       "      <td>-0.007360</td>\n",
       "      <td>0.465002</td>\n",
       "      <td>0.775779</td>\n",
       "      <td>0.781030</td>\n",
       "      <td>0.985395</td>\n",
       "      <td>1.000000</td>\n",
       "      <td>0.809541</td>\n",
       "    </tr>\n",
       "    <tr>\n",
       "      <th>Total Profit</th>\n",
       "      <td>-0.005367</td>\n",
       "      <td>0.603328</td>\n",
       "      <td>0.580710</td>\n",
       "      <td>0.510704</td>\n",
       "      <td>0.888720</td>\n",
       "      <td>0.809541</td>\n",
       "      <td>1.000000</td>\n",
       "    </tr>\n",
       "  </tbody>\n",
       "</table>\n",
       "</div>"
      ],
      "text/plain": [
       "               Order ID  Units Sold  Unit Price  Unit Cost  Total Revenue  \\\n",
       "Order ID       1.000000   -0.019732    0.012175   0.010449      -0.006921   \n",
       "Units Sold    -0.019732    1.000000   -0.012978  -0.012441       0.524582   \n",
       "Unit Price     0.012175   -0.012978    1.000000   0.986324       0.743716   \n",
       "Unit Cost      0.010449   -0.012441    0.986324   1.000000       0.729976   \n",
       "Total Revenue -0.006921    0.524582    0.743716   0.729976       1.000000   \n",
       "Total Cost    -0.007360    0.465002    0.775779   0.781030       0.985395   \n",
       "Total Profit  -0.005367    0.603328    0.580710   0.510704       0.888720   \n",
       "\n",
       "               Total Cost  Total Profit  \n",
       "Order ID        -0.007360     -0.005367  \n",
       "Units Sold       0.465002      0.603328  \n",
       "Unit Price       0.775779      0.580710  \n",
       "Unit Cost        0.781030      0.510704  \n",
       "Total Revenue    0.985395      0.888720  \n",
       "Total Cost       1.000000      0.809541  \n",
       "Total Profit     0.809541      1.000000  "
      ]
     },
     "execution_count": 10,
     "metadata": {},
     "output_type": "execute_result"
    }
   ],
   "source": [
    "df.corr()"
   ]
  },
  {
   "cell_type": "code",
   "execution_count": 11,
   "metadata": {},
   "outputs": [
    {
     "data": {
      "image/png": "[encoded data removed]",
      "text/plain": [
       "<Figure size 864x720 with 2 Axes>"
      ]
     },
     "metadata": {
      "needs_background": "light"
     },
     "output_type": "display_data"
    }
   ],
   "source": [
    "# Using Pearson Correlation\n",
    "plt.figure(figsize=(12,10))\n",
    "cor = df.corr()\n",
    "sns.heatmap(cor, annot=True, cmap=plt.cm.Reds)\n",
    "plt.show()"
   ]
  },
  {
   "cell_type": "code",
   "execution_count": 12,
   "metadata": {},
   "outputs": [
    {
     "data": {
      "text/plain": [
       "Units Sold       0.603328\n",
       "Unit Price       0.580710\n",
       "Unit Cost        0.510704\n",
       "Total Revenue    0.888720\n",
       "Total Cost       0.809541\n",
       "Total Profit     1.000000\n",
       "Name: Total Profit, dtype: float64"
      ]
     },
     "execution_count": 12,
     "metadata": {},
     "output_type": "execute_result"
    }
   ],
   "source": [
    "#Correlation with output variable\n",
    "corrTarget = abs(cor[\"Total Profit\"])\n",
    "\n",
    "#Selecting highly correlated features with Target Variable Total Profit\n",
    "relevantFeatures = corrTarget[corrTarget>0.5]\n",
    "relevantFeatures"
   ]
  },
  {
   "cell_type": "markdown",
   "metadata": {},
   "source": [
    "* Here, we're selecting the features whose having highest relation with our target variable. And those are units Sold, Unit Price, Unit Cost, Total Revenue, Total Cost"
   ]
  },
  {
   "cell_type": "markdown",
   "metadata": {},
   "source": [
    "# 5. Normalizing and Scaling"
   ]
  },
  {
   "cell_type": "markdown",
   "metadata": {},
   "source": [
    ">> we convert variables with different scales of measurements into a single scale. StandardScaler normalizes the data using the formula (x-mean)/standard deviation. We will be doing this only for the numerical variables."
   ]
  },
  {
   "cell_type": "code",
   "execution_count": 13,
   "metadata": {},
   "outputs": [
    {
     "data": {
      "text/plain": [
       "StandardScaler(copy=True, with_mean=True, with_std=True)"
      ]
     },
     "execution_count": 13,
     "metadata": {},
     "output_type": "execute_result"
    }
   ],
   "source": [
    "from sklearn.preprocessing import StandardScaler\n",
    "stdScaler = StandardScaler()\n",
    "stdScaler"
   ]
  },
  {
   "cell_type": "code",
   "execution_count": 14,
   "metadata": {},
   "outputs": [],
   "source": [
    "# Let's do feature scaling for model building\n",
    "df['Units Sold'] = stdScaler.fit_transform(df[['Units Sold']])\n",
    "df['Unit Price'] = stdScaler.fit_transform(df[['Unit Price']])\n",
    "df['Unit Cost'] = stdScaler.fit_transform(df[['Unit Cost']])\n",
    "df['Total Revenue'] = stdScaler.fit_transform(df[['Total Revenue']])\n",
    "df['Total Cost'] = stdScaler.fit_transform(df[['Total Cost']])\n",
    "df['Total Profit'] = stdScaler.fit_transform(df[['Total Profit']])"
   ]
  },
  {
   "cell_type": "code",
   "execution_count": null,
   "metadata": {},
   "outputs": [],
   "source": []
  },
  {
   "cell_type": "markdown",
   "metadata": {},
   "source": [
    "# 6. ENCODING\n",
    ">> One-Hot-Encoding is used to create dummy variables to replace the categories in a categorical variable into features of each category and represent it using 1 or 0 based on the presence or absence of the categorical value in the record."
   ]
  },
  {
   "cell_type": "code",
   "execution_count": 15,
   "metadata": {},
   "outputs": [],
   "source": [
    "new_data = pd.get_dummies(data=df, columns=['Region', 'Country', 'Item Type', 'Sales Channel', 'Order Priority'])"
   ]
  },
  {
   "cell_type": "code",
   "execution_count": 16,
   "metadata": {},
   "outputs": [
    {
     "data": {
      "text/html": [
       "<div>\n",
       "<style scoped>\n",
       "    .dataframe tbody tr th:only-of-type {\n",
       "        vertical-align: middle;\n",
       "    }\n",
       "\n",
       "    .dataframe tbody tr th {\n",
       "        vertical-align: top;\n",
       "    }\n",
       "\n",
       "    .dataframe thead th {\n",
       "        text-align: right;\n",
       "    }\n",
       "</style>\n",
       "<table border=\"1\" class=\"dataframe\">\n",
       "  <thead>\n",
       "    <tr style=\"text-align: right;\">\n",
       "      <th></th>\n",
       "      <th>Order Date</th>\n",
       "      <th>Order ID</th>\n",
       "      <th>Ship Date</th>\n",
       "      <th>Units Sold</th>\n",
       "      <th>Unit Price</th>\n",
       "      <th>Unit Cost</th>\n",
       "      <th>Total Revenue</th>\n",
       "      <th>Total Cost</th>\n",
       "      <th>Total Profit</th>\n",
       "      <th>Region_Asia</th>\n",
       "      <th>...</th>\n",
       "      <th>Item Type_Office Supplies</th>\n",
       "      <th>Item Type_Personal Care</th>\n",
       "      <th>Item Type_Snacks</th>\n",
       "      <th>Item Type_Vegetables</th>\n",
       "      <th>Sales Channel_Offline</th>\n",
       "      <th>Sales Channel_Online</th>\n",
       "      <th>Order Priority_C</th>\n",
       "      <th>Order Priority_H</th>\n",
       "      <th>Order Priority_L</th>\n",
       "      <th>Order Priority_M</th>\n",
       "    </tr>\n",
       "  </thead>\n",
       "  <tbody>\n",
       "    <tr>\n",
       "      <th>0</th>\n",
       "      <td>1/27/2011</td>\n",
       "      <td>292494523</td>\n",
       "      <td>2/12/2011</td>\n",
       "      <td>-0.180591</td>\n",
       "      <td>1.757726</td>\n",
       "      <td>1.905231</td>\n",
       "      <td>1.328165</td>\n",
       "      <td>1.739918</td>\n",
       "      <td>0.510121</td>\n",
       "      <td>0</td>\n",
       "      <td>...</td>\n",
       "      <td>1</td>\n",
       "      <td>0</td>\n",
       "      <td>0</td>\n",
       "      <td>0</td>\n",
       "      <td>0</td>\n",
       "      <td>1</td>\n",
       "      <td>0</td>\n",
       "      <td>0</td>\n",
       "      <td>1</td>\n",
       "      <td>0</td>\n",
       "    </tr>\n",
       "    <tr>\n",
       "      <th>1</th>\n",
       "      <td>12/28/2015</td>\n",
       "      <td>361825549</td>\n",
       "      <td>1/23/2016</td>\n",
       "      <td>-1.367113</td>\n",
       "      <td>-1.012664</td>\n",
       "      <td>-0.889930</td>\n",
       "      <td>-0.959497</td>\n",
       "      <td>-0.912310</td>\n",
       "      <td>-1.047428</td>\n",
       "      <td>0</td>\n",
       "      <td>...</td>\n",
       "      <td>0</td>\n",
       "      <td>0</td>\n",
       "      <td>0</td>\n",
       "      <td>0</td>\n",
       "      <td>0</td>\n",
       "      <td>1</td>\n",
       "      <td>1</td>\n",
       "      <td>0</td>\n",
       "      <td>0</td>\n",
       "      <td>0</td>\n",
       "    </tr>\n",
       "    <tr>\n",
       "      <th>2</th>\n",
       "      <td>1/13/2011</td>\n",
       "      <td>141515767</td>\n",
       "      <td>2/1/2011</td>\n",
       "      <td>0.526310</td>\n",
       "      <td>-0.523478</td>\n",
       "      <td>-0.554740</td>\n",
       "      <td>-0.199851</td>\n",
       "      <td>-0.274065</td>\n",
       "      <td>0.071123</td>\n",
       "      <td>0</td>\n",
       "      <td>...</td>\n",
       "      <td>0</td>\n",
       "      <td>0</td>\n",
       "      <td>0</td>\n",
       "      <td>1</td>\n",
       "      <td>1</td>\n",
       "      <td>0</td>\n",
       "      <td>1</td>\n",
       "      <td>0</td>\n",
       "      <td>0</td>\n",
       "      <td>0</td>\n",
       "    </tr>\n",
       "    <tr>\n",
       "      <th>3</th>\n",
       "      <td>9/11/2012</td>\n",
       "      <td>500364005</td>\n",
       "      <td>10/6/2012</td>\n",
       "      <td>0.932840</td>\n",
       "      <td>1.836007</td>\n",
       "      <td>1.778160</td>\n",
       "      <td>2.281025</td>\n",
       "      <td>2.149749</td>\n",
       "      <td>2.502060</td>\n",
       "      <td>0</td>\n",
       "      <td>...</td>\n",
       "      <td>0</td>\n",
       "      <td>0</td>\n",
       "      <td>0</td>\n",
       "      <td>0</td>\n",
       "      <td>0</td>\n",
       "      <td>1</td>\n",
       "      <td>1</td>\n",
       "      <td>0</td>\n",
       "      <td>0</td>\n",
       "      <td>0</td>\n",
       "    </tr>\n",
       "    <tr>\n",
       "      <th>4</th>\n",
       "      <td>10/27/2015</td>\n",
       "      <td>127481591</td>\n",
       "      <td>12/5/2015</td>\n",
       "      <td>-0.526210</td>\n",
       "      <td>-1.012664</td>\n",
       "      <td>-0.889930</td>\n",
       "      <td>-0.868087</td>\n",
       "      <td>-0.824497</td>\n",
       "      <td>-0.940142</td>\n",
       "      <td>0</td>\n",
       "      <td>...</td>\n",
       "      <td>0</td>\n",
       "      <td>0</td>\n",
       "      <td>0</td>\n",
       "      <td>0</td>\n",
       "      <td>0</td>\n",
       "      <td>1</td>\n",
       "      <td>1</td>\n",
       "      <td>0</td>\n",
       "      <td>0</td>\n",
       "      <td>0</td>\n",
       "    </tr>\n",
       "  </tbody>\n",
       "</table>\n",
       "<p>5 rows × 219 columns</p>\n",
       "</div>"
      ],
      "text/plain": [
       "   Order Date   Order ID  Ship Date  Units Sold  Unit Price  Unit Cost  \\\n",
       "0   1/27/2011  292494523  2/12/2011   -0.180591    1.757726   1.905231   \n",
       "1  12/28/2015  361825549  1/23/2016   -1.367113   -1.012664  -0.889930   \n",
       "2   1/13/2011  141515767   2/1/2011    0.526310   -0.523478  -0.554740   \n",
       "3   9/11/2012  500364005  10/6/2012    0.932840    1.836007   1.778160   \n",
       "4  10/27/2015  127481591  12/5/2015   -0.526210   -1.012664  -0.889930   \n",
       "\n",
       "   Total Revenue  Total Cost  Total Profit  Region_Asia  ...  \\\n",
       "0       1.328165    1.739918      0.510121            0  ...   \n",
       "1      -0.959497   -0.912310     -1.047428            0  ...   \n",
       "2      -0.199851   -0.274065      0.071123            0  ...   \n",
       "3       2.281025    2.149749      2.502060            0  ...   \n",
       "4      -0.868087   -0.824497     -0.940142            0  ...   \n",
       "\n",
       "   Item Type_Office Supplies  Item Type_Personal Care  Item Type_Snacks  \\\n",
       "0                          1                        0                 0   \n",
       "1                          0                        0                 0   \n",
       "2                          0                        0                 0   \n",
       "3                          0                        0                 0   \n",
       "4                          0                        0                 0   \n",
       "\n",
       "   Item Type_Vegetables  Sales Channel_Offline  Sales Channel_Online  \\\n",
       "0                     0                      0                     1   \n",
       "1                     0                      0                     1   \n",
       "2                     1                      1                     0   \n",
       "3                     0                      0                     1   \n",
       "4                     0                      0                     1   \n",
       "\n",
       "   Order Priority_C  Order Priority_H  Order Priority_L  Order Priority_M  \n",
       "0                 0                 0                 1                 0  \n",
       "1                 1                 0                 0                 0  \n",
       "2                 1                 0                 0                 0  \n",
       "3                 1                 0                 0                 0  \n",
       "4                 1                 0                 0                 0  \n",
       "\n",
       "[5 rows x 219 columns]"
      ]
     },
     "execution_count": 16,
     "metadata": {},
     "output_type": "execute_result"
    }
   ],
   "source": [
    "new_data.head()"
   ]
  },
  {
   "cell_type": "markdown",
   "metadata": {},
   "source": [
    "# 7. Feature Selection"
   ]
  },
  {
   "cell_type": "markdown",
   "metadata": {},
   "source": [
    ">> Feature Selection is the process where you automatically or manually select those features which contribute most to your prediction variable or output in which you are interested in. "
   ]
  },
  {
   "cell_type": "code",
   "execution_count": 17,
   "metadata": {
    "scrolled": true
   },
   "outputs": [
    {
     "data": {
      "text/html": [
       "<div>\n",
       "<style scoped>\n",
       "    .dataframe tbody tr th:only-of-type {\n",
       "        vertical-align: middle;\n",
       "    }\n",
       "\n",
       "    .dataframe tbody tr th {\n",
       "        vertical-align: top;\n",
       "    }\n",
       "\n",
       "    .dataframe thead th {\n",
       "        text-align: right;\n",
       "    }\n",
       "</style>\n",
       "<table border=\"1\" class=\"dataframe\">\n",
       "  <thead>\n",
       "    <tr style=\"text-align: right;\">\n",
       "      <th></th>\n",
       "      <th>Order ID</th>\n",
       "      <th>Units Sold</th>\n",
       "      <th>Unit Price</th>\n",
       "      <th>Unit Cost</th>\n",
       "      <th>Total Revenue</th>\n",
       "      <th>Total Cost</th>\n",
       "      <th>Total Profit</th>\n",
       "      <th>Region_Asia</th>\n",
       "      <th>Region_Australia and Oceania</th>\n",
       "      <th>Region_Central America and the Caribbean</th>\n",
       "      <th>...</th>\n",
       "      <th>Item Type_Office Supplies</th>\n",
       "      <th>Item Type_Personal Care</th>\n",
       "      <th>Item Type_Snacks</th>\n",
       "      <th>Item Type_Vegetables</th>\n",
       "      <th>Sales Channel_Offline</th>\n",
       "      <th>Sales Channel_Online</th>\n",
       "      <th>Order Priority_C</th>\n",
       "      <th>Order Priority_H</th>\n",
       "      <th>Order Priority_L</th>\n",
       "      <th>Order Priority_M</th>\n",
       "    </tr>\n",
       "  </thead>\n",
       "  <tbody>\n",
       "    <tr>\n",
       "      <th>Order ID</th>\n",
       "      <td>1.000000</td>\n",
       "      <td>-0.019732</td>\n",
       "      <td>0.012175</td>\n",
       "      <td>0.010449</td>\n",
       "      <td>-0.006921</td>\n",
       "      <td>-0.007360</td>\n",
       "      <td>-0.005367</td>\n",
       "      <td>-0.002730</td>\n",
       "      <td>-0.005808</td>\n",
       "      <td>0.004803</td>\n",
       "      <td>...</td>\n",
       "      <td>0.008097</td>\n",
       "      <td>-0.017770</td>\n",
       "      <td>0.001542</td>\n",
       "      <td>0.006021</td>\n",
       "      <td>0.030683</td>\n",
       "      <td>-0.030683</td>\n",
       "      <td>0.004665</td>\n",
       "      <td>-0.003423</td>\n",
       "      <td>0.006098</td>\n",
       "      <td>-0.007419</td>\n",
       "    </tr>\n",
       "    <tr>\n",
       "      <th>Units Sold</th>\n",
       "      <td>-0.019732</td>\n",
       "      <td>1.000000</td>\n",
       "      <td>-0.012978</td>\n",
       "      <td>-0.012441</td>\n",
       "      <td>0.524582</td>\n",
       "      <td>0.465002</td>\n",
       "      <td>0.603328</td>\n",
       "      <td>0.001824</td>\n",
       "      <td>-0.001648</td>\n",
       "      <td>0.009169</td>\n",
       "      <td>...</td>\n",
       "      <td>-0.008437</td>\n",
       "      <td>-0.004859</td>\n",
       "      <td>0.005143</td>\n",
       "      <td>0.007006</td>\n",
       "      <td>0.006071</td>\n",
       "      <td>-0.006071</td>\n",
       "      <td>0.008424</td>\n",
       "      <td>0.012763</td>\n",
       "      <td>0.002272</td>\n",
       "      <td>-0.023690</td>\n",
       "    </tr>\n",
       "    <tr>\n",
       "      <th>Unit Price</th>\n",
       "      <td>0.012175</td>\n",
       "      <td>-0.012978</td>\n",
       "      <td>1.000000</td>\n",
       "      <td>0.986324</td>\n",
       "      <td>0.743716</td>\n",
       "      <td>0.775779</td>\n",
       "      <td>0.580710</td>\n",
       "      <td>0.000465</td>\n",
       "      <td>-0.000991</td>\n",
       "      <td>0.009039</td>\n",
       "      <td>...</td>\n",
       "      <td>0.531245</td>\n",
       "      <td>-0.267026</td>\n",
       "      <td>-0.158061</td>\n",
       "      <td>-0.158110</td>\n",
       "      <td>0.005582</td>\n",
       "      <td>-0.005582</td>\n",
       "      <td>0.000420</td>\n",
       "      <td>-0.003576</td>\n",
       "      <td>0.003037</td>\n",
       "      <td>0.000120</td>\n",
       "    </tr>\n",
       "    <tr>\n",
       "      <th>Unit Cost</th>\n",
       "      <td>0.010449</td>\n",
       "      <td>-0.012441</td>\n",
       "      <td>0.986324</td>\n",
       "      <td>1.000000</td>\n",
       "      <td>0.729976</td>\n",
       "      <td>0.781030</td>\n",
       "      <td>0.510704</td>\n",
       "      <td>0.000336</td>\n",
       "      <td>-0.004745</td>\n",
       "      <td>0.010600</td>\n",
       "      <td>...</td>\n",
       "      <td>0.575826</td>\n",
       "      <td>-0.233794</td>\n",
       "      <td>-0.154357</td>\n",
       "      <td>-0.167552</td>\n",
       "      <td>0.004656</td>\n",
       "      <td>-0.004656</td>\n",
       "      <td>-0.002852</td>\n",
       "      <td>-0.003163</td>\n",
       "      <td>0.006017</td>\n",
       "      <td>0.000024</td>\n",
       "    </tr>\n",
       "    <tr>\n",
       "      <th>Total Revenue</th>\n",
       "      <td>-0.006921</td>\n",
       "      <td>0.524582</td>\n",
       "      <td>0.743716</td>\n",
       "      <td>0.729976</td>\n",
       "      <td>1.000000</td>\n",
       "      <td>0.985395</td>\n",
       "      <td>0.888720</td>\n",
       "      <td>0.008665</td>\n",
       "      <td>-0.002451</td>\n",
       "      <td>0.005945</td>\n",
       "      <td>...</td>\n",
       "      <td>0.367056</td>\n",
       "      <td>-0.211360</td>\n",
       "      <td>-0.114903</td>\n",
       "      <td>-0.113995</td>\n",
       "      <td>0.010310</td>\n",
       "      <td>-0.010310</td>\n",
       "      <td>0.000965</td>\n",
       "      <td>0.004788</td>\n",
       "      <td>0.007859</td>\n",
       "      <td>-0.013712</td>\n",
       "    </tr>\n",
       "    <tr>\n",
       "      <th>...</th>\n",
       "      <td>...</td>\n",
       "      <td>...</td>\n",
       "      <td>...</td>\n",
       "      <td>...</td>\n",
       "      <td>...</td>\n",
       "      <td>...</td>\n",
       "      <td>...</td>\n",
       "      <td>...</td>\n",
       "      <td>...</td>\n",
       "      <td>...</td>\n",
       "      <td>...</td>\n",
       "      <td>...</td>\n",
       "      <td>...</td>\n",
       "      <td>...</td>\n",
       "      <td>...</td>\n",
       "      <td>...</td>\n",
       "      <td>...</td>\n",
       "      <td>...</td>\n",
       "      <td>...</td>\n",
       "      <td>...</td>\n",
       "      <td>...</td>\n",
       "    </tr>\n",
       "    <tr>\n",
       "      <th>Sales Channel_Online</th>\n",
       "      <td>-0.030683</td>\n",
       "      <td>-0.006071</td>\n",
       "      <td>-0.005582</td>\n",
       "      <td>-0.004656</td>\n",
       "      <td>-0.010310</td>\n",
       "      <td>-0.007802</td>\n",
       "      <td>-0.015086</td>\n",
       "      <td>0.009910</td>\n",
       "      <td>0.015242</td>\n",
       "      <td>-0.009069</td>\n",
       "      <td>...</td>\n",
       "      <td>0.005340</td>\n",
       "      <td>0.003926</td>\n",
       "      <td>-0.002176</td>\n",
       "      <td>-0.015970</td>\n",
       "      <td>-1.000000</td>\n",
       "      <td>1.000000</td>\n",
       "      <td>0.015095</td>\n",
       "      <td>-0.013745</td>\n",
       "      <td>0.003600</td>\n",
       "      <td>-0.005086</td>\n",
       "    </tr>\n",
       "    <tr>\n",
       "      <th>Order Priority_C</th>\n",
       "      <td>0.004665</td>\n",
       "      <td>0.008424</td>\n",
       "      <td>0.000420</td>\n",
       "      <td>-0.002852</td>\n",
       "      <td>0.000965</td>\n",
       "      <td>-0.002772</td>\n",
       "      <td>0.011627</td>\n",
       "      <td>0.003673</td>\n",
       "      <td>0.002003</td>\n",
       "      <td>-0.010122</td>\n",
       "      <td>...</td>\n",
       "      <td>-0.012298</td>\n",
       "      <td>-0.001519</td>\n",
       "      <td>-0.003759</td>\n",
       "      <td>0.027669</td>\n",
       "      <td>-0.015095</td>\n",
       "      <td>0.015095</td>\n",
       "      <td>1.000000</td>\n",
       "      <td>-0.338493</td>\n",
       "      <td>-0.337681</td>\n",
       "      <td>-0.333532</td>\n",
       "    </tr>\n",
       "    <tr>\n",
       "      <th>Order Priority_H</th>\n",
       "      <td>-0.003423</td>\n",
       "      <td>0.012763</td>\n",
       "      <td>-0.003576</td>\n",
       "      <td>-0.003163</td>\n",
       "      <td>0.004788</td>\n",
       "      <td>0.005242</td>\n",
       "      <td>0.005718</td>\n",
       "      <td>0.000202</td>\n",
       "      <td>-0.013203</td>\n",
       "      <td>0.000721</td>\n",
       "      <td>...</td>\n",
       "      <td>0.009585</td>\n",
       "      <td>0.009522</td>\n",
       "      <td>0.005696</td>\n",
       "      <td>0.002293</td>\n",
       "      <td>0.013745</td>\n",
       "      <td>-0.013745</td>\n",
       "      <td>-0.338493</td>\n",
       "      <td>1.000000</td>\n",
       "      <td>-0.333066</td>\n",
       "      <td>-0.328974</td>\n",
       "    </tr>\n",
       "    <tr>\n",
       "      <th>Order Priority_L</th>\n",
       "      <td>0.006098</td>\n",
       "      <td>0.002272</td>\n",
       "      <td>0.003037</td>\n",
       "      <td>0.006017</td>\n",
       "      <td>0.007859</td>\n",
       "      <td>0.008963</td>\n",
       "      <td>-0.000298</td>\n",
       "      <td>0.006941</td>\n",
       "      <td>0.000195</td>\n",
       "      <td>0.012118</td>\n",
       "      <td>...</td>\n",
       "      <td>0.007722</td>\n",
       "      <td>0.001245</td>\n",
       "      <td>-0.001275</td>\n",
       "      <td>-0.017952</td>\n",
       "      <td>-0.003600</td>\n",
       "      <td>0.003600</td>\n",
       "      <td>-0.337681</td>\n",
       "      <td>-0.333066</td>\n",
       "      <td>1.000000</td>\n",
       "      <td>-0.328185</td>\n",
       "    </tr>\n",
       "    <tr>\n",
       "      <th>Order Priority_M</th>\n",
       "      <td>-0.007419</td>\n",
       "      <td>-0.023690</td>\n",
       "      <td>0.000120</td>\n",
       "      <td>0.000024</td>\n",
       "      <td>-0.013712</td>\n",
       "      <td>-0.011488</td>\n",
       "      <td>-0.017255</td>\n",
       "      <td>-0.010913</td>\n",
       "      <td>0.011073</td>\n",
       "      <td>-0.002653</td>\n",
       "      <td>...</td>\n",
       "      <td>-0.004953</td>\n",
       "      <td>-0.009306</td>\n",
       "      <td>-0.000643</td>\n",
       "      <td>-0.012312</td>\n",
       "      <td>0.005086</td>\n",
       "      <td>-0.005086</td>\n",
       "      <td>-0.333532</td>\n",
       "      <td>-0.328974</td>\n",
       "      <td>-0.328185</td>\n",
       "      <td>1.000000</td>\n",
       "    </tr>\n",
       "  </tbody>\n",
       "</table>\n",
       "<p>217 rows × 217 columns</p>\n",
       "</div>"
      ],
      "text/plain": [
       "                      Order ID  Units Sold  Unit Price  Unit Cost  \\\n",
       "Order ID              1.000000   -0.019732    0.012175   0.010449   \n",
       "Units Sold           -0.019732    1.000000   -0.012978  -0.012441   \n",
       "Unit Price            0.012175   -0.012978    1.000000   0.986324   \n",
       "Unit Cost             0.010449   -0.012441    0.986324   1.000000   \n",
       "Total Revenue        -0.006921    0.524582    0.743716   0.729976   \n",
       "...                        ...         ...         ...        ...   \n",
       "Sales Channel_Online -0.030683   -0.006071   -0.005582  -0.004656   \n",
       "Order Priority_C      0.004665    0.008424    0.000420  -0.002852   \n",
       "Order Priority_H     -0.003423    0.012763   -0.003576  -0.003163   \n",
       "Order Priority_L      0.006098    0.002272    0.003037   0.006017   \n",
       "Order Priority_M     -0.007419   -0.023690    0.000120   0.000024   \n",
       "\n",
       "                      Total Revenue  Total Cost  Total Profit  Region_Asia  \\\n",
       "Order ID                  -0.006921   -0.007360     -0.005367    -0.002730   \n",
       "Units Sold                 0.524582    0.465002      0.603328     0.001824   \n",
       "Unit Price                 0.743716    0.775779      0.580710     0.000465   \n",
       "Unit Cost                  0.729976    0.781030      0.510704     0.000336   \n",
       "Total Revenue              1.000000    0.985395      0.888720     0.008665   \n",
       "...                             ...         ...           ...          ...   \n",
       "Sales Channel_Online      -0.010310   -0.007802     -0.015086     0.009910   \n",
       "Order Priority_C           0.000965   -0.002772      0.011627     0.003673   \n",
       "Order Priority_H           0.004788    0.005242      0.005718     0.000202   \n",
       "Order Priority_L           0.007859    0.008963     -0.000298     0.006941   \n",
       "Order Priority_M          -0.013712   -0.011488     -0.017255    -0.010913   \n",
       "\n",
       "                      Region_Australia and Oceania  \\\n",
       "Order ID                                 -0.005808   \n",
       "Units Sold                               -0.001648   \n",
       "Unit Price                               -0.000991   \n",
       "Unit Cost                                -0.004745   \n",
       "Total Revenue                            -0.002451   \n",
       "...                                            ...   \n",
       "Sales Channel_Online                      0.015242   \n",
       "Order Priority_C                          0.002003   \n",
       "Order Priority_H                         -0.013203   \n",
       "Order Priority_L                          0.000195   \n",
       "Order Priority_M                          0.011073   \n",
       "\n",
       "                      Region_Central America and the Caribbean  ...  \\\n",
       "Order ID                                              0.004803  ...   \n",
       "Units Sold                                            0.009169  ...   \n",
       "Unit Price                                            0.009039  ...   \n",
       "Unit Cost                                             0.010600  ...   \n",
       "Total Revenue                                         0.005945  ...   \n",
       "...                                                        ...  ...   \n",
       "Sales Channel_Online                                 -0.009069  ...   \n",
       "Order Priority_C                                     -0.010122  ...   \n",
       "Order Priority_H                                      0.000721  ...   \n",
       "Order Priority_L                                      0.012118  ...   \n",
       "Order Priority_M                                     -0.002653  ...   \n",
       "\n",
       "                      Item Type_Office Supplies  Item Type_Personal Care  \\\n",
       "Order ID                               0.008097                -0.017770   \n",
       "Units Sold                            -0.008437                -0.004859   \n",
       "Unit Price                             0.531245                -0.267026   \n",
       "Unit Cost                              0.575826                -0.233794   \n",
       "Total Revenue                          0.367056                -0.211360   \n",
       "...                                         ...                      ...   \n",
       "Sales Channel_Online                   0.005340                 0.003926   \n",
       "Order Priority_C                      -0.012298                -0.001519   \n",
       "Order Priority_H                       0.009585                 0.009522   \n",
       "Order Priority_L                       0.007722                 0.001245   \n",
       "Order Priority_M                      -0.004953                -0.009306   \n",
       "\n",
       "                      Item Type_Snacks  Item Type_Vegetables  \\\n",
       "Order ID                      0.001542              0.006021   \n",
       "Units Sold                    0.005143              0.007006   \n",
       "Unit Price                   -0.158061             -0.158110   \n",
       "Unit Cost                    -0.154357             -0.167552   \n",
       "Total Revenue                -0.114903             -0.113995   \n",
       "...                                ...                   ...   \n",
       "Sales Channel_Online         -0.002176             -0.015970   \n",
       "Order Priority_C             -0.003759              0.027669   \n",
       "Order Priority_H              0.005696              0.002293   \n",
       "Order Priority_L             -0.001275             -0.017952   \n",
       "Order Priority_M             -0.000643             -0.012312   \n",
       "\n",
       "                      Sales Channel_Offline  Sales Channel_Online  \\\n",
       "Order ID                           0.030683             -0.030683   \n",
       "Units Sold                         0.006071             -0.006071   \n",
       "Unit Price                         0.005582             -0.005582   \n",
       "Unit Cost                          0.004656             -0.004656   \n",
       "Total Revenue                      0.010310             -0.010310   \n",
       "...                                     ...                   ...   \n",
       "Sales Channel_Online              -1.000000              1.000000   \n",
       "Order Priority_C                  -0.015095              0.015095   \n",
       "Order Priority_H                   0.013745             -0.013745   \n",
       "Order Priority_L                  -0.003600              0.003600   \n",
       "Order Priority_M                   0.005086             -0.005086   \n",
       "\n",
       "                      Order Priority_C  Order Priority_H  Order Priority_L  \\\n",
       "Order ID                      0.004665         -0.003423          0.006098   \n",
       "Units Sold                    0.008424          0.012763          0.002272   \n",
       "Unit Price                    0.000420         -0.003576          0.003037   \n",
       "Unit Cost                    -0.002852         -0.003163          0.006017   \n",
       "Total Revenue                 0.000965          0.004788          0.007859   \n",
       "...                                ...               ...               ...   \n",
       "Sales Channel_Online          0.015095         -0.013745          0.003600   \n",
       "Order Priority_C              1.000000         -0.338493         -0.337681   \n",
       "Order Priority_H             -0.338493          1.000000         -0.333066   \n",
       "Order Priority_L             -0.337681         -0.333066          1.000000   \n",
       "Order Priority_M             -0.333532         -0.328974         -0.328185   \n",
       "\n",
       "                      Order Priority_M  \n",
       "Order ID                     -0.007419  \n",
       "Units Sold                   -0.023690  \n",
       "Unit Price                    0.000120  \n",
       "Unit Cost                     0.000024  \n",
       "Total Revenue                -0.013712  \n",
       "...                                ...  \n",
       "Sales Channel_Online         -0.005086  \n",
       "Order Priority_C             -0.333532  \n",
       "Order Priority_H             -0.328974  \n",
       "Order Priority_L             -0.328185  \n",
       "Order Priority_M              1.000000  \n",
       "\n",
       "[217 rows x 217 columns]"
      ]
     },
     "execution_count": 17,
     "metadata": {},
     "output_type": "execute_result"
    }
   ],
   "source": [
    "new_data.corr()"
   ]
  },
  {
   "cell_type": "code",
   "execution_count": 18,
   "metadata": {},
   "outputs": [],
   "source": [
    "# Using Pearson Correlation\n",
    "corOfNewData = new_data.corr()"
   ]
  },
  {
   "cell_type": "code",
   "execution_count": 19,
   "metadata": {},
   "outputs": [
    {
     "data": {
      "text/plain": [
       "Units Sold       0.603328\n",
       "Unit Price       0.580710\n",
       "Unit Cost        0.510704\n",
       "Total Revenue    0.888720\n",
       "Total Cost       0.809541\n",
       "Total Profit     1.000000\n",
       "Name: Total Profit, dtype: float64"
      ]
     },
     "execution_count": 19,
     "metadata": {},
     "output_type": "execute_result"
    }
   ],
   "source": [
    "#Correlation with output variable\n",
    "corr_Target = abs(corOfNewData[\"Total Profit\"])\n",
    "\n",
    "#Selecting highly correlated features with Target Variable having correlation > 0.5 \n",
    "relevant_Features = corr_Target[corr_Target>0.5]\n",
    "relevant_Features"
   ]
  },
  {
   "cell_type": "markdown",
   "metadata": {},
   "source": [
    "* Here, post encoding, we can see the only features which are matters to predict or have correaltion with target variable is Units Sold, Unit Cost, Unit Price, Total Revenue, Total Cost as earlier seen. "
   ]
  },
  {
   "cell_type": "code",
   "execution_count": 20,
   "metadata": {},
   "outputs": [
    {
     "data": {
      "text/html": [
       "<div>\n",
       "<style scoped>\n",
       "    .dataframe tbody tr th:only-of-type {\n",
       "        vertical-align: middle;\n",
       "    }\n",
       "\n",
       "    .dataframe tbody tr th {\n",
       "        vertical-align: top;\n",
       "    }\n",
       "\n",
       "    .dataframe thead th {\n",
       "        text-align: right;\n",
       "    }\n",
       "</style>\n",
       "<table border=\"1\" class=\"dataframe\">\n",
       "  <thead>\n",
       "    <tr style=\"text-align: right;\">\n",
       "      <th></th>\n",
       "      <th>Region</th>\n",
       "      <th>Country</th>\n",
       "      <th>Item Type</th>\n",
       "      <th>Sales Channel</th>\n",
       "      <th>Order Priority</th>\n",
       "      <th>Order Date</th>\n",
       "      <th>Order ID</th>\n",
       "      <th>Ship Date</th>\n",
       "      <th>Units Sold</th>\n",
       "      <th>Unit Price</th>\n",
       "      <th>Unit Cost</th>\n",
       "      <th>Total Revenue</th>\n",
       "      <th>Total Cost</th>\n",
       "      <th>Total Profit</th>\n",
       "    </tr>\n",
       "  </thead>\n",
       "  <tbody>\n",
       "    <tr>\n",
       "      <th>0</th>\n",
       "      <td>Sub-Saharan Africa</td>\n",
       "      <td>Chad</td>\n",
       "      <td>Office Supplies</td>\n",
       "      <td>Online</td>\n",
       "      <td>L</td>\n",
       "      <td>1/27/2011</td>\n",
       "      <td>292494523</td>\n",
       "      <td>2/12/2011</td>\n",
       "      <td>-0.180591</td>\n",
       "      <td>1.757726</td>\n",
       "      <td>1.905231</td>\n",
       "      <td>1.328165</td>\n",
       "      <td>1.739918</td>\n",
       "      <td>0.510121</td>\n",
       "    </tr>\n",
       "    <tr>\n",
       "      <th>1</th>\n",
       "      <td>Europe</td>\n",
       "      <td>Latvia</td>\n",
       "      <td>Beverages</td>\n",
       "      <td>Online</td>\n",
       "      <td>C</td>\n",
       "      <td>12/28/2015</td>\n",
       "      <td>361825549</td>\n",
       "      <td>1/23/2016</td>\n",
       "      <td>-1.367113</td>\n",
       "      <td>-1.012664</td>\n",
       "      <td>-0.889930</td>\n",
       "      <td>-0.959497</td>\n",
       "      <td>-0.912310</td>\n",
       "      <td>-1.047428</td>\n",
       "    </tr>\n",
       "    <tr>\n",
       "      <th>2</th>\n",
       "      <td>Middle East and North Africa</td>\n",
       "      <td>Pakistan</td>\n",
       "      <td>Vegetables</td>\n",
       "      <td>Offline</td>\n",
       "      <td>C</td>\n",
       "      <td>1/13/2011</td>\n",
       "      <td>141515767</td>\n",
       "      <td>2/1/2011</td>\n",
       "      <td>0.526310</td>\n",
       "      <td>-0.523478</td>\n",
       "      <td>-0.554740</td>\n",
       "      <td>-0.199851</td>\n",
       "      <td>-0.274065</td>\n",
       "      <td>0.071123</td>\n",
       "    </tr>\n",
       "    <tr>\n",
       "      <th>3</th>\n",
       "      <td>Sub-Saharan Africa</td>\n",
       "      <td>Democratic Republic of the Congo</td>\n",
       "      <td>Household</td>\n",
       "      <td>Online</td>\n",
       "      <td>C</td>\n",
       "      <td>9/11/2012</td>\n",
       "      <td>500364005</td>\n",
       "      <td>10/6/2012</td>\n",
       "      <td>0.932840</td>\n",
       "      <td>1.836007</td>\n",
       "      <td>1.778160</td>\n",
       "      <td>2.281025</td>\n",
       "      <td>2.149749</td>\n",
       "      <td>2.502060</td>\n",
       "    </tr>\n",
       "    <tr>\n",
       "      <th>4</th>\n",
       "      <td>Europe</td>\n",
       "      <td>Czech Republic</td>\n",
       "      <td>Beverages</td>\n",
       "      <td>Online</td>\n",
       "      <td>C</td>\n",
       "      <td>10/27/2015</td>\n",
       "      <td>127481591</td>\n",
       "      <td>12/5/2015</td>\n",
       "      <td>-0.526210</td>\n",
       "      <td>-1.012664</td>\n",
       "      <td>-0.889930</td>\n",
       "      <td>-0.868087</td>\n",
       "      <td>-0.824497</td>\n",
       "      <td>-0.940142</td>\n",
       "    </tr>\n",
       "  </tbody>\n",
       "</table>\n",
       "</div>"
      ],
      "text/plain": [
       "                         Region                           Country  \\\n",
       "0            Sub-Saharan Africa                              Chad   \n",
       "1                        Europe                            Latvia   \n",
       "2  Middle East and North Africa                          Pakistan   \n",
       "3            Sub-Saharan Africa  Democratic Republic of the Congo   \n",
       "4                        Europe                    Czech Republic   \n",
       "\n",
       "         Item Type Sales Channel Order Priority  Order Date   Order ID  \\\n",
       "0  Office Supplies        Online              L   1/27/2011  292494523   \n",
       "1        Beverages        Online              C  12/28/2015  361825549   \n",
       "2       Vegetables       Offline              C   1/13/2011  141515767   \n",
       "3        Household        Online              C   9/11/2012  500364005   \n",
       "4        Beverages        Online              C  10/27/2015  127481591   \n",
       "\n",
       "   Ship Date  Units Sold  Unit Price  Unit Cost  Total Revenue  Total Cost  \\\n",
       "0  2/12/2011   -0.180591    1.757726   1.905231       1.328165    1.739918   \n",
       "1  1/23/2016   -1.367113   -1.012664  -0.889930      -0.959497   -0.912310   \n",
       "2   2/1/2011    0.526310   -0.523478  -0.554740      -0.199851   -0.274065   \n",
       "3  10/6/2012    0.932840    1.836007   1.778160       2.281025    2.149749   \n",
       "4  12/5/2015   -0.526210   -1.012664  -0.889930      -0.868087   -0.824497   \n",
       "\n",
       "   Total Profit  \n",
       "0      0.510121  \n",
       "1     -1.047428  \n",
       "2      0.071123  \n",
       "3      2.502060  \n",
       "4     -0.940142  "
      ]
     },
     "execution_count": 20,
     "metadata": {},
     "output_type": "execute_result"
    }
   ],
   "source": [
    "df.head()"
   ]
  },
  {
   "cell_type": "code",
   "execution_count": 21,
   "metadata": {},
   "outputs": [
    {
     "data": {
      "text/html": [
       "<div>\n",
       "<style scoped>\n",
       "    .dataframe tbody tr th:only-of-type {\n",
       "        vertical-align: middle;\n",
       "    }\n",
       "\n",
       "    .dataframe tbody tr th {\n",
       "        vertical-align: top;\n",
       "    }\n",
       "\n",
       "    .dataframe thead th {\n",
       "        text-align: right;\n",
       "    }\n",
       "</style>\n",
       "<table border=\"1\" class=\"dataframe\">\n",
       "  <thead>\n",
       "    <tr style=\"text-align: right;\">\n",
       "      <th></th>\n",
       "      <th>Units Sold</th>\n",
       "      <th>Unit Price</th>\n",
       "      <th>Unit Cost</th>\n",
       "      <th>Total Revenue</th>\n",
       "      <th>Total Cost</th>\n",
       "      <th>Total Profit</th>\n",
       "    </tr>\n",
       "  </thead>\n",
       "  <tbody>\n",
       "    <tr>\n",
       "      <th>0</th>\n",
       "      <td>-0.180591</td>\n",
       "      <td>1.757726</td>\n",
       "      <td>1.905231</td>\n",
       "      <td>1.328165</td>\n",
       "      <td>1.739918</td>\n",
       "      <td>0.510121</td>\n",
       "    </tr>\n",
       "    <tr>\n",
       "      <th>1</th>\n",
       "      <td>-1.367113</td>\n",
       "      <td>-1.012664</td>\n",
       "      <td>-0.889930</td>\n",
       "      <td>-0.959497</td>\n",
       "      <td>-0.912310</td>\n",
       "      <td>-1.047428</td>\n",
       "    </tr>\n",
       "    <tr>\n",
       "      <th>2</th>\n",
       "      <td>0.526310</td>\n",
       "      <td>-0.523478</td>\n",
       "      <td>-0.554740</td>\n",
       "      <td>-0.199851</td>\n",
       "      <td>-0.274065</td>\n",
       "      <td>0.071123</td>\n",
       "    </tr>\n",
       "    <tr>\n",
       "      <th>3</th>\n",
       "      <td>0.932840</td>\n",
       "      <td>1.836007</td>\n",
       "      <td>1.778160</td>\n",
       "      <td>2.281025</td>\n",
       "      <td>2.149749</td>\n",
       "      <td>2.502060</td>\n",
       "    </tr>\n",
       "    <tr>\n",
       "      <th>4</th>\n",
       "      <td>-0.526210</td>\n",
       "      <td>-1.012664</td>\n",
       "      <td>-0.889930</td>\n",
       "      <td>-0.868087</td>\n",
       "      <td>-0.824497</td>\n",
       "      <td>-0.940142</td>\n",
       "    </tr>\n",
       "  </tbody>\n",
       "</table>\n",
       "</div>"
      ],
      "text/plain": [
       "   Units Sold  Unit Price  Unit Cost  Total Revenue  Total Cost  Total Profit\n",
       "0   -0.180591    1.757726   1.905231       1.328165    1.739918      0.510121\n",
       "1   -1.367113   -1.012664  -0.889930      -0.959497   -0.912310     -1.047428\n",
       "2    0.526310   -0.523478  -0.554740      -0.199851   -0.274065      0.071123\n",
       "3    0.932840    1.836007   1.778160       2.281025    2.149749      2.502060\n",
       "4   -0.526210   -1.012664  -0.889930      -0.868087   -0.824497     -0.940142"
      ]
     },
     "execution_count": 21,
     "metadata": {},
     "output_type": "execute_result"
    }
   ],
   "source": [
    "# Dropping un-necessary variables\n",
    "final_data = df.drop(['Region', 'Country', 'Item Type', 'Sales Channel', 'Order Priority', 'Order Date', 'Order ID','Ship Date'], axis = 1) \n",
    "final_data.head()"
   ]
  },
  {
   "cell_type": "markdown",
   "metadata": {},
   "source": [
    "# * Visualizing the relation between features with target variable"
   ]
  },
  {
   "cell_type": "code",
   "execution_count": 22,
   "metadata": {},
   "outputs": [
    {
     "data": {
      "image/png": "[encoded data removed]",
      "text/plain": [
       "<Figure size 648x360 with 2 Axes>"
      ]
     },
     "metadata": {
      "needs_background": "light"
     },
     "output_type": "display_data"
    }
   ],
   "source": [
    "# Using Pearson Correlation\n",
    "plt.figure(figsize=(9,5))\n",
    "cor = final_data.corr()\n",
    "sns.heatmap(cor, annot=True,  cmap=\"YlGnBu\")\n",
    "plt.show()"
   ]
  },
  {
   "cell_type": "markdown",
   "metadata": {},
   "source": [
    "# 7. Model Building "
   ]
  },
  {
   "cell_type": "code",
   "execution_count": 23,
   "metadata": {},
   "outputs": [],
   "source": [
    "# SPlitting data into independent and dependent variable\n",
    "X = final_data[['Units Sold','Unit Price','Unit Cost','Total Revenue','Total Cost']]\n",
    "y = final_data['Total Profit']"
   ]
  },
  {
   "cell_type": "code",
   "execution_count": 24,
   "metadata": {},
   "outputs": [],
   "source": [
    "from sklearn.model_selection import train_test_split\n",
    "X_train, X_test, y_train, y_test = train_test_split(X, y, train_size = 0.7, test_size = 0.3, random_state = 100)"
   ]
  },
  {
   "cell_type": "code",
   "execution_count": 25,
   "metadata": {},
   "outputs": [
    {
     "name": "stdout",
     "output_type": "stream",
     "text": [
      "(7000, 5)\n",
      "(3000, 5)\n"
     ]
    }
   ],
   "source": [
    "print(X_train.shape); print(X_test.shape)"
   ]
  },
  {
   "cell_type": "code",
   "execution_count": 26,
   "metadata": {},
   "outputs": [
    {
     "data": {
      "text/plain": [
       "LinearRegression(copy_X=True, fit_intercept=True, n_jobs=None, normalize=False)"
      ]
     },
     "execution_count": 26,
     "metadata": {},
     "output_type": "execute_result"
    }
   ],
   "source": [
    "# Importing Linear regression package\n",
    "from sklearn.linear_model import LinearRegression\n",
    "\n",
    "lr_model = LinearRegression()\n",
    "lr_model"
   ]
  },
  {
   "cell_type": "code",
   "execution_count": 27,
   "metadata": {},
   "outputs": [
    {
     "name": "stdout",
     "output_type": "stream",
     "text": [
      "Intercept -0.0005828778033226383\n",
      "Coefficient [ 0.14735243  1.33245804 -1.26745682  2.02222013 -1.29741583]\n"
     ]
    }
   ],
   "source": [
    "lr_model.fit(X_train, y_train)\n",
    "print(\"Intercept\", lr_model.intercept_)\n",
    "print(\"Coefficient\", lr_model.coef_)"
   ]
  },
  {
   "cell_type": "code",
   "execution_count": 28,
   "metadata": {},
   "outputs": [
    {
     "data": {
      "text/plain": [
       "0.9641577122019069"
      ]
     },
     "execution_count": 28,
     "metadata": {},
     "output_type": "execute_result"
    }
   ],
   "source": [
    "lr_model.score(X_train, y_train)"
   ]
  },
  {
   "cell_type": "code",
   "execution_count": 29,
   "metadata": {},
   "outputs": [
    {
     "data": {
      "text/plain": [
       "array([ 1.8490152 , -0.61866859,  0.99863333, ..., -0.22163234,\n",
       "        1.19379994, -1.14739657])"
      ]
     },
     "execution_count": 29,
     "metadata": {},
     "output_type": "execute_result"
    }
   ],
   "source": [
    "# Predicting the Test set results\n",
    "y_pred = lr_model.predict(X_test)\n",
    "y_pred"
   ]
  },
  {
   "cell_type": "markdown",
   "metadata": {},
   "source": [
    "# 8. Stats Models\n",
    ">> By default, the statsmodel library fits a line that passes through the origin. But if we observe the simple linear regression equation y = c + mX, it has an intercept value as c. So, to have an intercept, we need to add the add_constant attribute manually."
   ]
  },
  {
   "cell_type": "code",
   "execution_count": 31,
   "metadata": {},
   "outputs": [
    {
     "name": "stdout",
     "output_type": "stream",
     "text": [
      "\n",
      " Params: \n",
      " const           -0.000583\n",
      "Units Sold       0.147352\n",
      "Unit Price       1.332458\n",
      "Unit Cost       -1.267457\n",
      "Total Revenue    2.022220\n",
      "Total Cost      -1.297416\n",
      "dtype: float64\n",
      "Model Summary: \n",
      " \n",
      "                              OLS Regression Results                            \n",
      "==============================================================================\n",
      "Dep. Variable:           Total Profit   R-squared:                       0.964\n",
      "Model:                            OLS   Adj. R-squared:                  0.964\n",
      "Method:                 Least Squares   F-statistic:                 3.763e+04\n",
      "Date:                Sat, 06 Mar 2021   Prob (F-statistic):               0.00\n",
      "Time:                        17:44:29   Log-Likelihood:                 1669.8\n",
      "No. Observations:                7000   AIC:                            -3328.\n",
      "Df Residuals:                    6994   BIC:                            -3287.\n",
      "Df Model:                           5                                         \n",
      "Covariance Type:            nonrobust                                         \n",
      "=================================================================================\n",
      "                    coef    std err          t      P>|t|      [0.025      0.975]\n",
      "---------------------------------------------------------------------------------\n",
      "const            -0.0006      0.002     -0.256      0.798      -0.005       0.004\n",
      "Units Sold        0.1474      0.004     37.690      0.000       0.140       0.155\n",
      "Unit Price        1.3325      0.021     64.914      0.000       1.292       1.373\n",
      "Unit Cost        -1.2675      0.021    -60.540      0.000      -1.308      -1.226\n",
      "Total Revenue     2.0222      0.022     91.376      0.000       1.979       2.066\n",
      "Total Cost       -1.2974      0.022    -58.848      0.000      -1.341      -1.254\n",
      "==============================================================================\n",
      "Omnibus:                     3432.966   Durbin-Watson:                   2.025\n",
      "Prob(Omnibus):                  0.000   Jarque-Bera (JB):            32350.566\n",
      "Skew:                          -2.140   Prob(JB):                         0.00\n",
      "Kurtosis:                      12.623   Cond. No.                         33.2\n",
      "==============================================================================\n",
      "\n",
      "Warnings:\n",
      "[1] Standard Errors assume that the covariance matrix of the errors is correctly specified.\n"
     ]
    }
   ],
   "source": [
    "# with statsmodels\n",
    "import statsmodels.api as statModel\n",
    "X_train_sm = statModel.add_constant(X_train) # adding a constant\n",
    "lr_model = statModel.OLS(y_train, X_train_sm).fit()\n",
    "#predictions = lr_model.predict(X) \n",
    "print(\"\\n Params: \\n\", lr_model.params)\n",
    "print(\"Model Summary: \\n \\n \", lr_model.summary())"
   ]
  },
  {
   "cell_type": "markdown",
   "metadata": {},
   "source": [
    "# 9. Predictions \n",
    ">> Now from the dataset, We have to predict the y value from the training dataset of X using the predict attribute. After that, we’ll create the error terms(Residuals) from the predicted data."
   ]
  },
  {
   "cell_type": "code",
   "execution_count": 32,
   "metadata": {},
   "outputs": [],
   "source": [
    "# Predicting y_value using traingn data of X\n",
    "y_train_pred = lr_model.predict(X_train_sm)\n",
    "\n",
    "# Creating residuals from the y_train data and predicted y_data\n",
    "res = (y_train - y_train_pred)"
   ]
  },
  {
   "cell_type": "markdown",
   "metadata": {},
   "source": [
    "# Predictions on the Test data or Evaluating the model\n",
    "> Now that we have fitted the regression line on our train dataset, we can make some predictions to the test data. Similar to the training dataset, we have to add_constant to the test data and predict the y values using the predict attribute present in the statsmodel."
   ]
  },
  {
   "cell_type": "code",
   "execution_count": 33,
   "metadata": {},
   "outputs": [
    {
     "data": {
      "text/plain": [
       "8018    1.849015\n",
       "9225   -0.618669\n",
       "3854    0.998633\n",
       "2029    0.358972\n",
       "3539   -0.588347\n",
       "          ...   \n",
       "4208   -0.801513\n",
       "5335    1.882711\n",
       "2554   -0.221632\n",
       "13      1.193800\n",
       "4468   -1.147397\n",
       "Length: 3000, dtype: float64"
      ]
     },
     "execution_count": 33,
     "metadata": {},
     "output_type": "execute_result"
    }
   ],
   "source": [
    "# Adding a constant to X_test\n",
    "X_test_sm = sm.add_constant(X_test)\n",
    "\n",
    "# Predicting the y values corresponding to X_test_sm\n",
    "y_test_pred = lr_model.predict(X_test_sm)\n",
    "\n",
    "# Printing the first 15 predicted values\n",
    "y_test_pred"
   ]
  },
  {
   "cell_type": "code",
   "execution_count": 34,
   "metadata": {},
   "outputs": [
    {
     "data": {
      "text/plain": [
       "0.9623270945147675"
      ]
     },
     "execution_count": 34,
     "metadata": {},
     "output_type": "execute_result"
    }
   ],
   "source": [
    "# Importing r2_square\n",
    "from sklearn.metrics import r2_score\n",
    "\n",
    "# Checking the R-squared value\n",
    "r_squared = r2_score(y_test, y_test_pred)\n",
    "r_squared"
   ]
  },
  {
   "cell_type": "code",
   "execution_count": 35,
   "metadata": {},
   "outputs": [
    {
     "name": "stdout",
     "output_type": "stream",
     "text": [
      "\n",
      " Mean Squared Error : 0.1908251819224405\n"
     ]
    }
   ],
   "source": [
    "print(\"\\n Mean Squared Error :\",np.sqrt(mean_squared_error(y_test,y_test_pred)))"
   ]
  },
  {
   "cell_type": "markdown",
   "metadata": {},
   "source": [
    "* The R² value by using the above code = 0.9623\n",
    "* If we can remember from the training data, the R² value = 0.964\n",
    "  *  > Since the R² value on test data is within 5% of the R² value on training data, we can conclude that the model is pretty stable. Which means, what the model has learned on the training set can generalize on the unseen test set."
   ]
  },
  {
   "cell_type": "code",
   "execution_count": null,
   "metadata": {},
   "outputs": [],
   "source": []
  },
  {
   "cell_type": "markdown",
   "metadata": {},
   "source": [
    "# B. Building Nonlinear Regression Model "
   ]
  },
  {
   "cell_type": "markdown",
   "metadata": {},
   "source": [
    "1. A nonlinear regression model is one that describes a nonlinear relationship between the dependent and the independent variables.\n",
    "\n",
    "2. Naturally, the equation of the model is a nonlinear equation. How are nonlinear equations different from linear equations? The simple answer is that in a linear equation, the change in the dependent variable is always proportional to the change in the independent variable; however, in a nonlinear equation, the dependent variable changes disproportionately with a change in the independent variable."
   ]
  },
  {
   "cell_type": "markdown",
   "metadata": {},
   "source": [
    "* Degree of an equation\n",
    "    > Nonlinear equations have a degree either less than 1, or greater than 1 (but never a degree equal to 1). Linear equations have a degree equal to 1.\n",
    "\n",
    "    > A linear equation is of the form, y = ax + b. The variable x in this equation is raised to the power of 1. This is what we refer to when we say that the degree (also called the order) of the equation is 1.\n",
    "\n",
    "    > A nonlinear equation would have a degree not equal to 1. For example, the equation y = ax2 + bx + c has one term with x raised to the power 2, and therefore, the degree (or order) of the equation is 2. Since this not an equation of order 1, it is a nonlinear equation."
   ]
  },
  {
   "cell_type": "markdown",
   "metadata": {},
   "source": [
    "# Model Building - RandomForestRegressor"
   ]
  },
  {
   "cell_type": "code",
   "execution_count": 36,
   "metadata": {},
   "outputs": [],
   "source": [
    "# Import necessary packages\n",
    "from sklearn.ensemble import RandomForestRegressor\n",
    "from sklearn.metrics import r2_score\n",
    "from sklearn.metrics import mean_squared_error\n",
    "from math import sqrt"
   ]
  },
  {
   "cell_type": "code",
   "execution_count": 37,
   "metadata": {},
   "outputs": [
    {
     "data": {
      "text/plain": [
       "RandomForestRegressor(bootstrap=True, criterion='mse', max_depth=None,\n",
       "                      max_features='auto', max_leaf_nodes=None,\n",
       "                      min_impurity_decrease=0.0, min_impurity_split=None,\n",
       "                      min_samples_leaf=1, min_samples_split=2,\n",
       "                      min_weight_fraction_leaf=0.0, n_estimators='warn',\n",
       "                      n_jobs=None, oob_score=False, random_state=None,\n",
       "                      verbose=0, warm_start=False)"
      ]
     },
     "execution_count": 37,
     "metadata": {},
     "output_type": "execute_result"
    }
   ],
   "source": [
    "#model_r = RandomForestRegressor(oob_score=True, random_state=100)\n",
    "model_rfr = RandomForestRegressor()\n",
    "model_rfr"
   ]
  },
  {
   "cell_type": "code",
   "execution_count": 38,
   "metadata": {},
   "outputs": [
    {
     "name": "stderr",
     "output_type": "stream",
     "text": [
      "C:\\Users\\lenovo\\Anaconda3\\lib\\site-packages\\sklearn\\ensemble\\forest.py:245: FutureWarning: The default value of n_estimators will change from 10 in version 0.20 to 100 in 0.22.\n",
      "  \"10 in version 0.20 to 100 in 0.22.\", FutureWarning)\n"
     ]
    },
    {
     "data": {
      "text/plain": [
       "RandomForestRegressor(bootstrap=True, criterion='mse', max_depth=None,\n",
       "                      max_features='auto', max_leaf_nodes=None,\n",
       "                      min_impurity_decrease=0.0, min_impurity_split=None,\n",
       "                      min_samples_leaf=1, min_samples_split=2,\n",
       "                      min_weight_fraction_leaf=0.0, n_estimators=10,\n",
       "                      n_jobs=None, oob_score=False, random_state=None,\n",
       "                      verbose=0, warm_start=False)"
      ]
     },
     "execution_count": 38,
     "metadata": {},
     "output_type": "execute_result"
    }
   ],
   "source": [
    "model_rfr.fit(X_train, y_train) "
   ]
  },
  {
   "cell_type": "code",
   "execution_count": 39,
   "metadata": {},
   "outputs": [
    {
     "name": "stdout",
     "output_type": "stream",
     "text": [
      "\n",
      " Mean Squared Error : 0.0026646675733301294\n",
      "\n",
      " R_Squared_Value : 0.999992995809448\n"
     ]
    }
   ],
   "source": [
    "pred_train_rf= model_rfr.predict(X_train)\n",
    "print(\"\\n Mean Squared Error :\", np.sqrt(mean_squared_error(y_train,pred_train_rf)))\n",
    "print(\"\\n R_Squared_Value :\", r2_score(y_train, pred_train_rf))"
   ]
  },
  {
   "cell_type": "code",
   "execution_count": 40,
   "metadata": {},
   "outputs": [
    {
     "name": "stdout",
     "output_type": "stream",
     "text": [
      "\n",
      " Mean Squared Error : 0.006384274756770041\n",
      "\n",
      " R_Squared_Score : 0.9999578322057299\n"
     ]
    }
   ],
   "source": [
    "pred_test_rf = model_rfr.predict(X_test)\n",
    "print(\"\\n Mean Squared Error :\",np.sqrt(mean_squared_error(y_test,pred_test_rf)))\n",
    "print(\"\\n R_Squared_Score :\",r2_score(y_test, pred_test_rf))"
   ]
  },
  {
   "cell_type": "markdown",
   "metadata": {},
   "source": [
    "# Conclusion"
   ]
  },
  {
   "cell_type": "markdown",
   "metadata": {},
   "source": [
    "* >> By r2_Score we can say that RandomForestRegressor outperforms the Linear model."
   ]
  },
  {
   "cell_type": "code",
   "execution_count": null,
   "metadata": {},
   "outputs": [],
   "source": []
  }
 ],
 "metadata": {
  "kernelspec": {
   "display_name": "Python 3",
   "language": "python",
   "name": "python3"
  },
  "language_info": {
   "codemirror_mode": {
    "name": "ipython",
    "version": 3
   },
   "file_extension": ".py",
   "mimetype": "text/x-python",
   "name": "python",
   "nbconvert_exporter": "python",
   "pygments_lexer": "ipython3",
   "version": "3.7.4"
  }
 },
 "nbformat": 4,
 "nbformat_minor": 2
}
